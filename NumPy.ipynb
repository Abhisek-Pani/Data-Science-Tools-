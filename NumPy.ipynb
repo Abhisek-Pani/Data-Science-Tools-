{
 "cells": [
  {
   "cell_type": "code",
   "execution_count": null,
   "id": "dbc941be",
   "metadata": {},
   "outputs": [],
   "source": [
    "# I want to take the help of NumPy from Python."
   ]
  },
  {
   "cell_type": "code",
   "execution_count": 2,
   "id": "5246571c",
   "metadata": {},
   "outputs": [
    {
     "name": "stdout",
     "output_type": "stream",
     "text": [
      "Requirement already satisfied: numpy in c:\\users\\user\\anaconda3\\lib\\site-packages (1.23.5)\n"
     ]
    }
   ],
   "source": [
    "!pip install numpy    # if below code not working , use this to install numpy "
   ]
  },
  {
   "cell_type": "code",
   "execution_count": 1,
   "id": "f7719de6",
   "metadata": {},
   "outputs": [],
   "source": [
    " import numpy as np    "
   ]
  },
  {
   "cell_type": "markdown",
   "id": "4bfa5905",
   "metadata": {},
   "source": [
    "### Basic NumPy"
   ]
  },
  {
   "cell_type": "code",
   "execution_count": null,
   "id": "f479e418",
   "metadata": {},
   "outputs": [],
   "source": [
    "#NumPy : deals or works with dimensionality data "
   ]
  },
  {
   "cell_type": "code",
   "execution_count": 7,
   "id": "08b5fe92",
   "metadata": {},
   "outputs": [
    {
     "name": "stdout",
     "output_type": "stream",
     "text": [
      "[10, 11, 12, 13, 14, 15]\n",
      "<class 'list'>\n",
      "6\n",
      "14\n"
     ]
    },
    {
     "ename": "AttributeError",
     "evalue": "'list' object has no attribute 'shape'",
     "output_type": "error",
     "traceback": [
      "\u001b[1;31m---------------------------------------------------------------------------\u001b[0m",
      "\u001b[1;31mAttributeError\u001b[0m                            Traceback (most recent call last)",
      "Cell \u001b[1;32mIn[7], line 8\u001b[0m\n\u001b[0;32m      6\u001b[0m \u001b[38;5;28mprint\u001b[39m(\u001b[38;5;28mlen\u001b[39m(a))\n\u001b[0;32m      7\u001b[0m \u001b[38;5;28mprint\u001b[39m(a[\u001b[38;5;241m4\u001b[39m])\n\u001b[1;32m----> 8\u001b[0m \u001b[38;5;28mprint\u001b[39m(\u001b[43ma\u001b[49m\u001b[38;5;241;43m.\u001b[39;49m\u001b[43mshape\u001b[49m)\n",
      "\u001b[1;31mAttributeError\u001b[0m: 'list' object has no attribute 'shape'"
     ]
    }
   ],
   "source": [
    "# Difference in Numpy and list :\n",
    "\n",
    "a= [10,11,12,13,14,15]\n",
    "print(a)\n",
    "print(type(a))\n",
    "print(len(a))\n",
    "print(a[4])\n",
    "print(a.shape)      # shape : gives us rows and columns "
   ]
  },
  {
   "cell_type": "code",
   "execution_count": null,
   "id": "d54564ae",
   "metadata": {},
   "outputs": [],
   "source": [
    "# List is a scalar : no dimension for list "
   ]
  },
  {
   "cell_type": "markdown",
   "id": "105c4f27",
   "metadata": {},
   "source": [
    "#### Vector :"
   ]
  },
  {
   "cell_type": "code",
   "execution_count": 15,
   "id": "d4c2fdb2",
   "metadata": {},
   "outputs": [
    {
     "name": "stdout",
     "output_type": "stream",
     "text": [
      "[10 11 12 13 14 15 16 17 18 19]\n",
      "(10,)\n"
     ]
    }
   ],
   "source": [
    "import numpy as np\n",
    "\n",
    "# for single dimension there is a method called = arange\n",
    "\n",
    "\n",
    "a = np.arange(10,20)     # follows (n-1) concept \n",
    "print(a)\n",
    "print(a.shape)"
   ]
  },
  {
   "cell_type": "code",
   "execution_count": 16,
   "id": "3bf43135",
   "metadata": {},
   "outputs": [
    {
     "name": "stdout",
     "output_type": "stream",
     "text": [
      "[10 13 16 19]\n",
      "<class 'numpy.ndarray'>\n",
      "(4,)\n"
     ]
    },
    {
     "data": {
      "text/plain": [
       "19"
      ]
     },
     "execution_count": 16,
     "metadata": {},
     "output_type": "execute_result"
    }
   ],
   "source": [
    "a = np.arange(10,20,3)     # follows (n-1) concept     # (10,20,3): 3 here means 3-3 values will be skipped\n",
    "print(a)\n",
    "print(type(a))\n",
    "print(a.shape)\n",
    "a[3]\n"
   ]
  },
  {
   "cell_type": "markdown",
   "id": "eacae037",
   "metadata": {},
   "source": [
    "### Array method in NumPy:"
   ]
  },
  {
   "cell_type": "code",
   "execution_count": 19,
   "id": "4648f37e",
   "metadata": {},
   "outputs": [
    {
     "name": "stdout",
     "output_type": "stream",
     "text": [
      "[12 16 17 20]\n",
      "<class 'numpy.ndarray'>\n",
      "(4,)\n",
      "1\n"
     ]
    }
   ],
   "source": [
    "# lets understand about dimension :\n",
    "\n",
    "a=np.array([12,16,17,20])\n",
    "print(a)\n",
    "print(type(a))\n",
    "print(a.shape)\n",
    "print(a.ndim)    # ndim : to find out the number of dimensions "
   ]
  },
  {
   "cell_type": "code",
   "execution_count": 24,
   "id": "bc744386",
   "metadata": {},
   "outputs": [
    {
     "name": "stdout",
     "output_type": "stream",
     "text": [
      "[[12 16 17 20]]\n",
      "<class 'numpy.ndarray'>\n",
      "(1, 4)\n",
      "2\n"
     ]
    }
   ],
   "source": [
    "a=np.array([[12,16,17,20]])   # [[]]: 2-dimension \n",
    "print(a)\n",
    "print(type(a))\n",
    "print(a.shape)\n",
    "print(a.ndim)"
   ]
  },
  {
   "cell_type": "code",
   "execution_count": null,
   "id": "a4c6f182",
   "metadata": {},
   "outputs": [],
   "source": [
    "#16,32,64 : how much memory needed for the variable to be occupied in memory space "
   ]
  },
  {
   "cell_type": "code",
   "execution_count": 25,
   "id": "a3e7bbc4",
   "metadata": {},
   "outputs": [
    {
     "name": "stdout",
     "output_type": "stream",
     "text": [
      "[12. 16. 17. 20.]\n",
      "<class 'numpy.ndarray'>\n",
      "(4,)\n",
      "1\n"
     ]
    }
   ],
   "source": [
    "a=np.array([12,16,17,20], dtype= np.float64)      # but default : float64\n",
    "print(a)\n",
    "print(type(a))\n",
    "print(a.shape)\n",
    "print(a.ndim)"
   ]
  },
  {
   "cell_type": "code",
   "execution_count": 26,
   "id": "a5b4cfc5",
   "metadata": {},
   "outputs": [
    {
     "name": "stdout",
     "output_type": "stream",
     "text": [
      "[12 16 17 20]\n",
      "<class 'numpy.ndarray'>\n",
      "(4,)\n",
      "1\n"
     ]
    }
   ],
   "source": [
    "a=np.array([12,16,17,20], dtype= np.int64)   \n",
    "print(a)\n",
    "print(type(a))\n",
    "print(a.shape)\n",
    "print(a.ndim)"
   ]
  },
  {
   "cell_type": "code",
   "execution_count": 35,
   "id": "1c25372c",
   "metadata": {},
   "outputs": [
    {
     "name": "stdout",
     "output_type": "stream",
     "text": [
      "[[ 2  3  4  5]\n",
      " [10 20 30 40]]\n",
      "2\n",
      "(2, 4)\n"
     ]
    }
   ],
   "source": [
    "# 2-Dimension:\n",
    "\n",
    "\n",
    "a= np.array([[2,3,4,5], [10,20,30,40]])\n",
    "print(a)\n",
    "print(a.ndim)\n",
    "print(a.shape)"
   ]
  },
  {
   "cell_type": "code",
   "execution_count": 37,
   "id": "39522ae2",
   "metadata": {},
   "outputs": [],
   "source": [
    "# 2-d means matrix : \n"
   ]
  },
  {
   "cell_type": "code",
   "execution_count": 42,
   "id": "85275382",
   "metadata": {},
   "outputs": [
    {
     "name": "stdout",
     "output_type": "stream",
     "text": [
      "[[10 20 30]\n",
      " [ 1  2  4]\n",
      " [30 50 80]]\n",
      "2\n",
      "(3, 3)\n"
     ]
    }
   ],
   "source": [
    "a= np.array([[10,20,30],[1,2,4],[30,50,80]])\n",
    "print(a)\n",
    "print(a.ndim)\n",
    "print(a.shape)"
   ]
  },
  {
   "cell_type": "code",
   "execution_count": 45,
   "id": "ea961414",
   "metadata": {},
   "outputs": [
    {
     "name": "stdout",
     "output_type": "stream",
     "text": [
      "2\n",
      "80\n"
     ]
    }
   ],
   "source": [
    "print(a[1][1])\n",
    "print(a[2][2])"
   ]
  },
  {
   "cell_type": "code",
   "execution_count": 46,
   "id": "956abc42",
   "metadata": {},
   "outputs": [
    {
     "name": "stdout",
     "output_type": "stream",
     "text": [
      "9\n"
     ]
    }
   ],
   "source": [
    "# size : used to find how many numbers of values are there \n",
    "\n",
    "print(a.size)"
   ]
  },
  {
   "cell_type": "code",
   "execution_count": 51,
   "id": "49d00e6b",
   "metadata": {},
   "outputs": [
    {
     "name": "stdout",
     "output_type": "stream",
     "text": [
      "[['10' '20' '30']\n",
      " ['a' 'b' 'c']\n",
      " ['10.23' '45.5' '90.5']]\n",
      "<class 'numpy.ndarray'>\n",
      "2\n",
      "(3, 3)\n"
     ]
    }
   ],
   "source": [
    "a = np.array([[10,20,30],['a','b','c'],[10.23,45.5,90.5]])\n",
    "print(a)\n",
    "print(type(a))\n",
    "print(a.ndim)\n",
    "print(a.shape)"
   ]
  },
  {
   "cell_type": "code",
   "execution_count": 55,
   "id": "ece8caf2",
   "metadata": {},
   "outputs": [
    {
     "name": "stdout",
     "output_type": "stream",
     "text": [
      "[[['10' '20' '30']\n",
      "  ['a' 'b' 'c']\n",
      "  ['10.23' '45.5' '90.5']]]\n",
      "<class 'numpy.ndarray'>\n",
      "(1, 3, 3)\n",
      "3\n"
     ]
    }
   ],
   "source": [
    "# 3-Dimension:\n",
    "\n",
    "a = np.array([[[10,20,30],['a','b','c'],[10.23,45.5,90.5]]])\n",
    "\n",
    "print(a)\n",
    "print(type(a))\n",
    "print(a.shape)\n",
    "print(a.ndim)"
   ]
  },
  {
   "cell_type": "code",
   "execution_count": 57,
   "id": "fce13f09",
   "metadata": {},
   "outputs": [],
   "source": [
    "# Understanding even in more depth about shapes :\n",
    "\n",
    "# convert 1-d to 2-d\n",
    "# convert 2-d to 3-d\n",
    "# convert 1-d to 3-d"
   ]
  },
  {
   "cell_type": "code",
   "execution_count": 65,
   "id": "a24d3405",
   "metadata": {},
   "outputs": [
    {
     "name": "stdout",
     "output_type": "stream",
     "text": [
      "[ 1  2  3  4  5  6  7  8  9 10 11 12 13 14 15 16 17 18 19 20 21 22 23 24\n",
      " 25 26 27 28 29 30 31 32 33 34 35 36 37 38 39 40 41 42 43 44 45 46 47 48\n",
      " 49 50 51 52 53 54 55 56 57 58 59 60 61 62 63 64 65 66 67 68 69 70]\n",
      "1\n"
     ]
    }
   ],
   "source": [
    "# From 1-d to 3-d :\n",
    "\n",
    "\n",
    "a = np.arange(1,71)\n",
    "print(a)\n",
    "print(a.ndim)"
   ]
  },
  {
   "cell_type": "code",
   "execution_count": 80,
   "id": "00d7302d",
   "metadata": {},
   "outputs": [
    {
     "name": "stdout",
     "output_type": "stream",
     "text": [
      "[[ 1  2  3  4  5  6  7]\n",
      " [ 8  9 10 11 12 13 14]\n",
      " [15 16 17 18 19 20 21]\n",
      " [22 23 24 25 26 27 28]\n",
      " [29 30 31 32 33 34 35]\n",
      " [36 37 38 39 40 41 42]\n",
      " [43 44 45 46 47 48 49]\n",
      " [50 51 52 53 54 55 56]\n",
      " [57 58 59 60 61 62 63]\n",
      " [64 65 66 67 68 69 70]]\n",
      "2\n",
      "39\n"
     ]
    }
   ],
   "source": [
    "a = np.arange(1,71).reshape(10,7)\n",
    "print(a)\n",
    "print(a.ndim)\n",
    "print(a[5][3])"
   ]
  },
  {
   "cell_type": "code",
   "execution_count": 81,
   "id": "ec04db76",
   "metadata": {},
   "outputs": [
    {
     "name": "stdout",
     "output_type": "stream",
     "text": [
      "39\n"
     ]
    }
   ],
   "source": [
    "# pull out the value 34 :\n",
    "\n",
    "print(a[5][3])"
   ]
  },
  {
   "cell_type": "code",
   "execution_count": 84,
   "id": "038479f6",
   "metadata": {},
   "outputs": [
    {
     "name": "stdout",
     "output_type": "stream",
     "text": [
      "[[[ 1  2  3]\n",
      "  [ 4  5  6]\n",
      "  [ 7  8  9]\n",
      "  [10 11 12]]\n",
      "\n",
      " [[13 14 15]\n",
      "  [16 17 18]\n",
      "  [19 20 21]\n",
      "  [22 23 24]]\n",
      "\n",
      " [[25 26 27]\n",
      "  [28 29 30]\n",
      "  [31 32 33]\n",
      "  [34 35 36]]\n",
      "\n",
      " [[37 38 39]\n",
      "  [40 41 42]\n",
      "  [43 44 45]\n",
      "  [46 47 48]]\n",
      "\n",
      " [[49 50 51]\n",
      "  [52 53 54]\n",
      "  [55 56 57]\n",
      "  [58 59 60]]]\n",
      "3\n"
     ]
    }
   ],
   "source": [
    "a = np.arange(1,61).reshape(5,4,3)\n",
    "print(a)\n",
    "print(a.ndim)\n"
   ]
  },
  {
   "cell_type": "code",
   "execution_count": 85,
   "id": "e8988eb5",
   "metadata": {},
   "outputs": [
    {
     "name": "stdout",
     "output_type": "stream",
     "text": [
      "34\n"
     ]
    }
   ],
   "source": [
    "# pull out 34:\n",
    "\n",
    "print(a[2][3][0])"
   ]
  },
  {
   "cell_type": "code",
   "execution_count": 4,
   "id": "ca61171d",
   "metadata": {},
   "outputs": [],
   "source": [
    "import numpy as np"
   ]
  },
  {
   "cell_type": "code",
   "execution_count": 12,
   "id": "a5e1c5de",
   "metadata": {},
   "outputs": [
    {
     "name": "stdout",
     "output_type": "stream",
     "text": [
      "[[ 1  2  3  4  5]\n",
      " [ 6  7  8  9 10]\n",
      " [11 12 13 14 15]\n",
      " [16 17 18 19 20]\n",
      " [21 22 23 24 25]\n",
      " [26 27 28 29 30]\n",
      " [31 32 33 34 35]\n",
      " [36 37 38 39 40]\n",
      " [41 42 43 44 45]\n",
      " [46 47 48 49 50]]\n",
      "<class 'numpy.ndarray'>\n",
      "2\n"
     ]
    }
   ],
   "source": [
    "a = np.arange(1,51).reshape(10,5)\n",
    "\n",
    "print(a)\n",
    "print(type(a))\n",
    "print(a.ndim)"
   ]
  },
  {
   "cell_type": "code",
   "execution_count": 13,
   "id": "e41a1b2e",
   "metadata": {},
   "outputs": [
    {
     "name": "stdout",
     "output_type": "stream",
     "text": [
      "28\n"
     ]
    }
   ],
   "source": [
    "print(a[5][2])"
   ]
  },
  {
   "cell_type": "code",
   "execution_count": 21,
   "id": "b255ee4e",
   "metadata": {},
   "outputs": [
    {
     "name": "stdout",
     "output_type": "stream",
     "text": [
      "[ 1.          4.33333333  7.66666667 11.        ]\n"
     ]
    }
   ],
   "source": [
    "# Linspace : Used to break the range into pieces ; does not follow n-1 rule \n",
    "\n",
    "a = np.linspace(1,11,4)\n",
    "print(a)"
   ]
  },
  {
   "cell_type": "code",
   "execution_count": 22,
   "id": "b6129eb2",
   "metadata": {},
   "outputs": [
    {
     "name": "stdout",
     "output_type": "stream",
     "text": [
      "[10. 15. 20. 25. 30.]\n"
     ]
    }
   ],
   "source": [
    "a = np.linspace(10,30,5)\n",
    "print(a)"
   ]
  },
  {
   "cell_type": "code",
   "execution_count": 26,
   "id": "e05a332f",
   "metadata": {},
   "outputs": [
    {
     "name": "stdout",
     "output_type": "stream",
     "text": [
      "[[0 0 0 0]\n",
      " [0 0 0 0]\n",
      " [0 0 0 0]\n",
      " [0 0 0 0]\n",
      " [0 0 0 0]]\n"
     ]
    }
   ],
   "source": [
    "# Zeroes : used to create matix with complete zeroes \n",
    "# default numpy is float64 \n",
    "\n",
    "a = np.zeros((5,4),dtype=np.int64)\n",
    "print(a)"
   ]
  },
  {
   "cell_type": "code",
   "execution_count": 27,
   "id": "ad240317",
   "metadata": {},
   "outputs": [
    {
     "name": "stdout",
     "output_type": "stream",
     "text": [
      "[[0. 0. 0. 0.]\n",
      " [0. 0. 0. 0.]\n",
      " [0. 0. 0. 0.]\n",
      " [0. 0. 0. 0.]\n",
      " [0. 0. 0. 0.]]\n"
     ]
    }
   ],
   "source": [
    "a = np.zeros((5,4),dtype=np.float64)\n",
    "print(a)"
   ]
  },
  {
   "cell_type": "code",
   "execution_count": 28,
   "id": "aa978553",
   "metadata": {},
   "outputs": [],
   "source": [
    "# creating a image from zeroes :\n",
    "\n",
    "import matplotlib.pyplot as plt"
   ]
  },
  {
   "cell_type": "code",
   "execution_count": 34,
   "id": "6f2cd500",
   "metadata": {},
   "outputs": [
    {
     "data": {
      "text/plain": [
       "<matplotlib.image.AxesImage at 0x1859d523dc0>"
      ]
     },
     "execution_count": 34,
     "metadata": {},
     "output_type": "execute_result"
    },
    {
     "data": {
      "image/png": "[encoded data removed]",
      "text/plain": [
       "<Figure size 640x480 with 1 Axes>"
      ]
     },
     "metadata": {},
     "output_type": "display_data"
    }
   ],
   "source": [
    "img = np.zeros([200,300,3], dtype=np.float64)\n",
    "plt.imshow(img)"
   ]
  },
  {
   "cell_type": "code",
   "execution_count": 35,
   "id": "48fa5028",
   "metadata": {},
   "outputs": [
    {
     "data": {
      "text/plain": [
       "<matplotlib.image.AxesImage at 0x1859d543b80>"
      ]
     },
     "execution_count": 35,
     "metadata": {},
     "output_type": "execute_result"
    },
    {
     "data": {
      "image/png": "[encoded data removed]",
      "text/plain": [
       "<Figure size 640x480 with 1 Axes>"
      ]
     },
     "metadata": {},
     "output_type": "display_data"
    }
   ],
   "source": [
    "img = np.ones([200,300,3], dtype=np.float64)\n",
    "plt.imshow(img)"
   ]
  },
  {
   "cell_type": "code",
   "execution_count": 41,
   "id": "07da55e2",
   "metadata": {},
   "outputs": [
    {
     "data": {
      "text/plain": [
       "array([[1, 1, 1, 1, 1],\n",
       "       [1, 1, 1, 1, 1],\n",
       "       [1, 1, 1, 1, 1],\n",
       "       [1, 1, 1, 1, 1],\n",
       "       [1, 1, 1, 1, 1]], dtype=int64)"
      ]
     },
     "execution_count": 41,
     "metadata": {},
     "output_type": "execute_result"
    }
   ],
   "source": [
    "#ones :\n",
    "\n",
    "a= np.ones((5,5) , dtype = np.int64)\n",
    "a\n"
   ]
  },
  {
   "cell_type": "code",
   "execution_count": 44,
   "id": "6ada4703",
   "metadata": {},
   "outputs": [
    {
     "data": {
      "text/plain": [
       "<matplotlib.image.AxesImage at 0x1859dd05de0>"
      ]
     },
     "execution_count": 44,
     "metadata": {},
     "output_type": "execute_result"
    },
    {
     "data": {
      "image/png": "[encoded data removed]",
      "text/plain": [
       "<Figure size 640x480 with 1 Axes>"
      ]
     },
     "metadata": {},
     "output_type": "display_data"
    }
   ],
   "source": [
    "img = np.ones([20,10,3], dtype=np.float64)\n",
    "plt.imshow(img)"
   ]
  },
  {
   "cell_type": "markdown",
   "id": "15067106",
   "metadata": {},
   "source": [
    "### Random Concepts : "
   ]
  },
  {
   "cell_type": "code",
   "execution_count": 45,
   "id": "7011bd1b",
   "metadata": {},
   "outputs": [],
   "source": [
    "# randint : used to select random integer \n",
    "\n",
    "import random "
   ]
  },
  {
   "cell_type": "code",
   "execution_count": 61,
   "id": "370228d4",
   "metadata": {},
   "outputs": [
    {
     "name": "stdout",
     "output_type": "stream",
     "text": [
      "18\n"
     ]
    }
   ],
   "source": [
    "a=np.random.seed(100)   # seed -> used to keep a stable outcome .\n",
    "\n",
    "a=np.random.randint(10,150)\n",
    "print(a)"
   ]
  },
  {
   "cell_type": "code",
   "execution_count": 65,
   "id": "b2146909",
   "metadata": {},
   "outputs": [
    {
     "name": "stdout",
     "output_type": "stream",
     "text": [
      "[[0.77600531 0.55095838 0.3810734  0.52926578]\n",
      " [0.9568769  0.17582131 0.11830284 0.86294567]\n",
      " [0.07486688 0.82509486 0.83613181 0.07539491]\n",
      " [0.01140079 0.04842057 0.35712271 0.66569338]]\n"
     ]
    }
   ],
   "source": [
    "# rand :  gives random values between 0 and 1  \n",
    "\n",
    "a = np.random.rand(4,4)    #randomly 3 rows and 4 columns \n",
    "print(a)"
   ]
  },
  {
   "cell_type": "code",
   "execution_count": 66,
   "id": "51ed3f76",
   "metadata": {},
   "outputs": [
    {
     "name": "stdout",
     "output_type": "stream",
     "text": [
      "[[ 0.07939305  0.10796863  0.5069511   1.12558936]\n",
      " [-1.00805248  0.35482923 -0.70266818  0.11345113]\n",
      " [-1.0411337  -0.68659935 -2.55944758  0.94631055]\n",
      " [ 0.79067165  0.68000189  0.71660582  0.47770485]]\n"
     ]
    }
   ],
   "source": [
    "# randn : works with standard deviation concept , dont worry for the small deviation in comparison to rand\n",
    "\n",
    "a= np.random.randn(4,4)\n",
    "print(a)\n"
   ]
  },
  {
   "cell_type": "code",
   "execution_count": 67,
   "id": "80596bf3",
   "metadata": {},
   "outputs": [
    {
     "name": "stdout",
     "output_type": "stream",
     "text": [
      "[[0.55619038 0.05686271 0.88672457 0.31441695]\n",
      " [0.56039187 0.2540144  0.9349621  0.03424494]\n",
      " [0.68654496 0.43893494 0.97772095 0.47738415]\n",
      " [0.23895263 0.93235066 0.13671513 0.17192781]]\n"
     ]
    }
   ],
   "source": [
    "# random\n",
    "\n",
    "a=np.random.random((4,4))\n",
    "print (a)"
   ]
  },
  {
   "cell_type": "markdown",
   "id": "d8fe93b8",
   "metadata": {},
   "source": [
    "### Maths : "
   ]
  },
  {
   "cell_type": "code",
   "execution_count": 71,
   "id": "a84da2be",
   "metadata": {},
   "outputs": [
    {
     "data": {
      "text/plain": [
       "14.866068747318506"
      ]
     },
     "execution_count": 71,
     "metadata": {},
     "output_type": "execute_result"
    }
   ],
   "source": [
    "np.sqrt(221)"
   ]
  },
  {
   "cell_type": "code",
   "execution_count": 79,
   "id": "7fa276ec",
   "metadata": {},
   "outputs": [
    {
     "data": {
      "text/plain": [
       "1"
      ]
     },
     "execution_count": 79,
     "metadata": {},
     "output_type": "execute_result"
    }
   ],
   "source": [
    "a=[1,3,5,7,9,10]\n",
    "np.sqrt(a)\n",
    "np.sum(a)\n",
    "np.product(a)\n",
    "np.max(a)\n",
    "np.min(a)"
   ]
  },
  {
   "cell_type": "code",
   "execution_count": 80,
   "id": "446d26a9",
   "metadata": {},
   "outputs": [
    {
     "name": "stdout",
     "output_type": "stream",
     "text": [
      "[[ 1  2  3  4  5]\n",
      " [ 6  7  8  9 10]\n",
      " [11 12 13 14 15]\n",
      " [16 17 18 19 20]\n",
      " [21 22 23 24 25]\n",
      " [26 27 28 29 30]\n",
      " [31 32 33 34 35]\n",
      " [36 37 38 39 40]\n",
      " [41 42 43 44 45]\n",
      " [46 47 48 49 50]]\n"
     ]
    }
   ],
   "source": [
    "# vstack and hstack : \n",
    "# vertical and horizontal stacking \n",
    "\n",
    "#vstack:\n",
    "\n",
    "a=np.arange(1,51).reshape(10,5)\n",
    "print(a)"
   ]
  },
  {
   "cell_type": "code",
   "execution_count": 82,
   "id": "b089042a",
   "metadata": {},
   "outputs": [
    {
     "name": "stdout",
     "output_type": "stream",
     "text": [
      "[[ 51  52  53  54  55]\n",
      " [ 56  57  58  59  60]\n",
      " [ 61  62  63  64  65]\n",
      " [ 66  67  68  69  70]\n",
      " [ 71  72  73  74  75]\n",
      " [ 76  77  78  79  80]\n",
      " [ 81  82  83  84  85]\n",
      " [ 86  87  88  89  90]\n",
      " [ 91  92  93  94  95]\n",
      " [ 96  97  98  99 100]]\n"
     ]
    }
   ],
   "source": [
    "b=np.arange(51,101).reshape(10,5)\n",
    "print(b)"
   ]
  },
  {
   "cell_type": "code",
   "execution_count": 86,
   "id": "d32862e4",
   "metadata": {},
   "outputs": [
    {
     "data": {
      "text/plain": [
       "array([[  1,   2,   3,   4,   5],\n",
       "       [  6,   7,   8,   9,  10],\n",
       "       [ 11,  12,  13,  14,  15],\n",
       "       [ 16,  17,  18,  19,  20],\n",
       "       [ 21,  22,  23,  24,  25],\n",
       "       [ 26,  27,  28,  29,  30],\n",
       "       [ 31,  32,  33,  34,  35],\n",
       "       [ 36,  37,  38,  39,  40],\n",
       "       [ 41,  42,  43,  44,  45],\n",
       "       [ 46,  47,  48,  49,  50],\n",
       "       [ 51,  52,  53,  54,  55],\n",
       "       [ 56,  57,  58,  59,  60],\n",
       "       [ 61,  62,  63,  64,  65],\n",
       "       [ 66,  67,  68,  69,  70],\n",
       "       [ 71,  72,  73,  74,  75],\n",
       "       [ 76,  77,  78,  79,  80],\n",
       "       [ 81,  82,  83,  84,  85],\n",
       "       [ 86,  87,  88,  89,  90],\n",
       "       [ 91,  92,  93,  94,  95],\n",
       "       [ 96,  97,  98,  99, 100]])"
      ]
     },
     "execution_count": 86,
     "metadata": {},
     "output_type": "execute_result"
    }
   ],
   "source": [
    "# vertical stacking means adding :\n",
    "\n",
    "c=np.vstack((a,b))\n",
    "c"
   ]
  },
  {
   "cell_type": "code",
   "execution_count": 89,
   "id": "6d2317a5",
   "metadata": {},
   "outputs": [
    {
     "data": {
      "text/plain": [
       "array([[  1,   2,   3,   4,   5,  51,  52,  53,  54,  55],\n",
       "       [  6,   7,   8,   9,  10,  56,  57,  58,  59,  60],\n",
       "       [ 11,  12,  13,  14,  15,  61,  62,  63,  64,  65],\n",
       "       [ 16,  17,  18,  19,  20,  66,  67,  68,  69,  70],\n",
       "       [ 21,  22,  23,  24,  25,  71,  72,  73,  74,  75],\n",
       "       [ 26,  27,  28,  29,  30,  76,  77,  78,  79,  80],\n",
       "       [ 31,  32,  33,  34,  35,  81,  82,  83,  84,  85],\n",
       "       [ 36,  37,  38,  39,  40,  86,  87,  88,  89,  90],\n",
       "       [ 41,  42,  43,  44,  45,  91,  92,  93,  94,  95],\n",
       "       [ 46,  47,  48,  49,  50,  96,  97,  98,  99, 100]])"
      ]
     },
     "execution_count": 89,
     "metadata": {},
     "output_type": "execute_result"
    }
   ],
   "source": [
    "# hstack : \n",
    "\n",
    "np.hstack((a,b))"
   ]
  },
  {
   "cell_type": "code",
   "execution_count": 92,
   "id": "0e0488ad",
   "metadata": {},
   "outputs": [
    {
     "name": "stdout",
     "output_type": "stream",
     "text": [
      "[[ 1  0  0]\n",
      " [ 0  5  0]\n",
      " [ 0  0 10]]\n"
     ]
    }
   ],
   "source": [
    "#diagonal :\\\n",
    "\n",
    "a=np.diag([1,5,10])\n",
    "print(a)"
   ]
  },
  {
   "cell_type": "code",
   "execution_count": 95,
   "id": "cb4ac937",
   "metadata": {},
   "outputs": [
    {
     "name": "stdout",
     "output_type": "stream",
     "text": [
      "[[10 20 30 40]\n",
      " [ 1  2  3  4]]\n",
      "<class 'numpy.ndarray'>\n"
     ]
    }
   ],
   "source": [
    "# ravel : used to convert 2d to 1d array :\n",
    "\n",
    "a=np.array([[10,20,30,40],[1,2,3,4]])\n",
    "print(a)\n",
    "print(type(a))\n"
   ]
  },
  {
   "cell_type": "code",
   "execution_count": 97,
   "id": "b6dc0aa2",
   "metadata": {},
   "outputs": [
    {
     "name": "stdout",
     "output_type": "stream",
     "text": [
      "[10 20 30 40  1  2  3  4]\n"
     ]
    }
   ],
   "source": [
    "b=np.ravel(a)\n",
    "print(b)"
   ]
  },
  {
   "cell_type": "code",
   "execution_count": 101,
   "id": "2cb8d80d",
   "metadata": {},
   "outputs": [
    {
     "name": "stdout",
     "output_type": "stream",
     "text": [
      "[10 20 30 40  1  2  3  4]\n",
      "(8,)\n",
      "1\n"
     ]
    }
   ],
   "source": [
    "b=a.ravel()    # converts to 1d \n",
    "print(b)\n",
    "print(b.shape)\n",
    "print(b.ndim)"
   ]
  },
  {
   "cell_type": "code",
   "execution_count": null,
   "id": "1116a3aa",
   "metadata": {},
   "outputs": [],
   "source": [
    "# transpose , concatination and absolute "
   ]
  },
  {
   "cell_type": "code",
   "execution_count": 102,
   "id": "68f3b027",
   "metadata": {},
   "outputs": [
    {
     "data": {
      "text/plain": [
       "200"
      ]
     },
     "execution_count": 102,
     "metadata": {},
     "output_type": "execute_result"
    }
   ],
   "source": [
    "#absolute \n",
    "\n",
    "np.abs(-200)"
   ]
  },
  {
   "cell_type": "code",
   "execution_count": 104,
   "id": "21422c79",
   "metadata": {},
   "outputs": [
    {
     "name": "stdout",
     "output_type": "stream",
     "text": [
      "[[10 20 30 40]\n",
      " [ 1  2  3  4]]\n",
      "(2, 4)\n"
     ]
    }
   ],
   "source": [
    "# transpose \n",
    "\n",
    "a=np.array([[10,20,30,40],[1,2,3,4]])\n",
    "print(a)\n",
    "print(a.shape )"
   ]
  },
  {
   "cell_type": "code",
   "execution_count": 105,
   "id": "b1878c73",
   "metadata": {},
   "outputs": [
    {
     "data": {
      "text/plain": [
       "array([[10,  1],\n",
       "       [20,  2],\n",
       "       [30,  3],\n",
       "       [40,  4]])"
      ]
     },
     "execution_count": 105,
     "metadata": {},
     "output_type": "execute_result"
    }
   ],
   "source": [
    "a.T   # T is for transpose"
   ]
  },
  {
   "cell_type": "code",
   "execution_count": 106,
   "id": "946a8ca0",
   "metadata": {},
   "outputs": [
    {
     "name": "stdout",
     "output_type": "stream",
     "text": [
      "a=  [[10 20 30 40]\n",
      " [ 1  2  3  4]]\n",
      "b=  [[102 202 302 402]\n",
      " [ 11  21  31  41]]\n",
      "=========cpncatenation=======\n"
     ]
    },
    {
     "data": {
      "text/plain": [
       "array([[ 10,  20,  30,  40],\n",
       "       [  1,   2,   3,   4],\n",
       "       [102, 202, 302, 402],\n",
       "       [ 11,  21,  31,  41]])"
      ]
     },
     "execution_count": 106,
     "metadata": {},
     "output_type": "execute_result"
    }
   ],
   "source": [
    "#concatination : adding \n",
    "\n",
    "a=np.array([[10,20,30,40],[1,2,3,4]])\n",
    "b=np.array([[102,202,302,402],[11,21,31,41]])\n",
    "\n",
    "print('a= ',a)\n",
    "print('b= ',b)\n",
    "\n",
    "print('=========cpncatenation=======')\n",
    "\n",
    "c= np.concatenate([a,b])\n",
    "c"
   ]
  },
  {
   "cell_type": "code",
   "execution_count": 109,
   "id": "7c08117c",
   "metadata": {},
   "outputs": [
    {
     "data": {
      "text/plain": [
       "array([[1, 0, 0, 0],\n",
       "       [0, 1, 0, 0],\n",
       "       [0, 0, 1, 0],\n",
       "       [0, 0, 0, 1]], dtype=int64)"
      ]
     },
     "execution_count": 109,
     "metadata": {},
     "output_type": "execute_result"
    }
   ],
   "source": [
    "# identity matrix: \n",
    "\n",
    "a=np.eye(4,4 ,dtype = np.int64)\n",
    "a"
   ]
  },
  {
   "cell_type": "code",
   "execution_count": null,
   "id": "d7df3ade",
   "metadata": {},
   "outputs": [],
   "source": [
    "# how to check the version "
   ]
  },
  {
   "cell_type": "code",
   "execution_count": 110,
   "id": "378c6c2c",
   "metadata": {},
   "outputs": [
    {
     "name": "stdout",
     "output_type": "stream",
     "text": [
      "1.23.5\n"
     ]
    }
   ],
   "source": [
    "print(np.__version__)"
   ]
  },
  {
   "cell_type": "code",
   "execution_count": null,
   "id": "2038bf4a",
   "metadata": {},
   "outputs": [],
   "source": [
    "# full : method is used to fill the value which is required "
   ]
  },
  {
   "cell_type": "code",
   "execution_count": 112,
   "id": "5a351db9",
   "metadata": {},
   "outputs": [
    {
     "data": {
      "text/plain": [
       "array([[5, 5, 5, 5],\n",
       "       [5, 5, 5, 5],\n",
       "       [5, 5, 5, 5],\n",
       "       [5, 5, 5, 5]], dtype=int64)"
      ]
     },
     "execution_count": 112,
     "metadata": {},
     "output_type": "execute_result"
    }
   ],
   "source": [
    "a = np.full ( (4,4) , 5 , dtype = np.int64 )\n",
    "a"
   ]
  },
  {
   "cell_type": "code",
   "execution_count": 113,
   "id": "c57b0679",
   "metadata": {},
   "outputs": [
    {
     "name": "stdout",
     "output_type": "stream",
     "text": [
      "[[10 20 30 40]\n",
      " [ 1  2  3  4]]\n"
     ]
    }
   ],
   "source": [
    "# change the value in a array \n",
    "a=np.array([[10,20,30,40],[1,2,3,4]])\n",
    "print(a)"
   ]
  },
  {
   "cell_type": "code",
   "execution_count": 116,
   "id": "8260a8e4",
   "metadata": {},
   "outputs": [
    {
     "name": "stdout",
     "output_type": "stream",
     "text": [
      "before\n",
      "[[10 20 30 40]\n",
      " [ 1  2  3  4]]\n",
      "after\n",
      "[[10 20 30 40]\n",
      " [ 1  2  6  4]]\n"
     ]
    }
   ],
   "source": [
    "a=np.array([[10,20,30,40],[1,2,3,4]])\n",
    "print('before')\n",
    "print(a)\n",
    "print('after')\n",
    "a[1][2]= 6\n",
    "print(a)"
   ]
  },
  {
   "cell_type": "code",
   "execution_count": 117,
   "id": "7663bd60",
   "metadata": {},
   "outputs": [
    {
     "name": "stdout",
     "output_type": "stream",
     "text": [
      "[[ 10.  20.]\n",
      " [100. 200.]]\n",
      "[[1000 2000]\n",
      " [ 400  600]]\n"
     ]
    }
   ],
   "source": [
    "# math \n",
    "\n",
    "a=np.array([[10,20],[100,200]] , dtype=np.float64)\n",
    "b=np.array([[1000,2000],[400,600]] , dtype=np.int64)\n",
    "\n",
    "print(a)\n",
    "print(b)"
   ]
  },
  {
   "cell_type": "code",
   "execution_count": 118,
   "id": "55d077a1",
   "metadata": {},
   "outputs": [
    {
     "name": "stdout",
     "output_type": "stream",
     "text": [
      "[[1010. 2020.]\n",
      " [ 500.  800.]]\n"
     ]
    }
   ],
   "source": [
    "print(a+b)"
   ]
  },
  {
   "cell_type": "code",
   "execution_count": 119,
   "id": "000d7b97",
   "metadata": {},
   "outputs": [
    {
     "name": "stdout",
     "output_type": "stream",
     "text": [
      "[[1010. 2020.]\n",
      " [ 500.  800.]]\n"
     ]
    }
   ],
   "source": [
    "print(np.add(a,b))   # we can add this way too "
   ]
  },
  {
   "cell_type": "markdown",
   "id": "5db1fda3",
   "metadata": {},
   "source": [
    "### axis concept "
   ]
  },
  {
   "cell_type": "code",
   "execution_count": 121,
   "id": "60bd62ab",
   "metadata": {},
   "outputs": [
    {
     "name": "stdout",
     "output_type": "stream",
     "text": [
      "[[ -6.88252878   0.04733254   4.24690193  -2.00902695]\n",
      " [ -7.57833505 -22.69098966  -9.56570204   1.9481524 ]\n",
      " [-14.23738152 -13.45367137  -3.58771529   6.04723882]]\n"
     ]
    }
   ],
   "source": [
    "# setup a random 2 * 4 matrix \n",
    "\n",
    "a = 10* np.random.randn(3,4)\n",
    "print(a)"
   ]
  },
  {
   "cell_type": "code",
   "execution_count": 122,
   "id": "2d46ac95",
   "metadata": {},
   "outputs": [
    {
     "data": {
      "text/plain": [
       "-5.642977080981868"
      ]
     },
     "execution_count": 122,
     "metadata": {},
     "output_type": "execute_result"
    }
   ],
   "source": [
    "# find the mean , max and min\n",
    "\n",
    "a.mean()"
   ]
  },
  {
   "cell_type": "code",
   "execution_count": 123,
   "id": "db662775",
   "metadata": {},
   "outputs": [
    {
     "data": {
      "text/plain": [
       "6.047238815134833"
      ]
     },
     "execution_count": 123,
     "metadata": {},
     "output_type": "execute_result"
    }
   ],
   "source": [
    "a.max()"
   ]
  },
  {
   "cell_type": "code",
   "execution_count": 124,
   "id": "7dd50b7b",
   "metadata": {},
   "outputs": [
    {
     "data": {
      "text/plain": [
       "-22.69098965500653"
      ]
     },
     "execution_count": 124,
     "metadata": {},
     "output_type": "execute_result"
    }
   ],
   "source": [
    "a.min()"
   ]
  },
  {
   "cell_type": "code",
   "execution_count": 125,
   "id": "f3ccf574",
   "metadata": {},
   "outputs": [
    {
     "name": "stdout",
     "output_type": "stream",
     "text": [
      "[[  6.37805735  -5.59486335   0.56200948  -1.07882544]\n",
      " [  0.8897395   -4.15846979  18.84001461 -18.77013927]\n",
      " [ -8.6617252   15.25180188   3.87493463  -0.52762085]]\n"
     ]
    }
   ],
   "source": [
    "a = 10* np.random.randn(3,4)\n",
    "print(a)"
   ]
  },
  {
   "cell_type": "code",
   "execution_count": null,
   "id": "e114c6bf",
   "metadata": {},
   "outputs": [],
   "source": [
    "# axis = 1 ; rows \n",
    "# axis = 0 ; columns        -> reverse in pandas "
   ]
  },
  {
   "cell_type": "code",
   "execution_count": 126,
   "id": "e322186b",
   "metadata": {},
   "outputs": [
    {
     "data": {
      "text/plain": [
       "array([-0.46464278,  1.83282291,  7.75898624, -6.79219519])"
      ]
     },
     "execution_count": 126,
     "metadata": {},
     "output_type": "execute_result"
    }
   ],
   "source": [
    "a.mean(axis=0)"
   ]
  },
  {
   "cell_type": "code",
   "execution_count": 127,
   "id": "8d3c1cd6",
   "metadata": {},
   "outputs": [
    {
     "data": {
      "text/plain": [
       "array([ 0.06659451, -0.79971374,  2.48434762])"
      ]
     },
     "execution_count": 127,
     "metadata": {},
     "output_type": "execute_result"
    }
   ],
   "source": [
    "a.mean(axis=1)"
   ]
  },
  {
   "cell_type": "code",
   "execution_count": null,
   "id": "51e53efb",
   "metadata": {},
   "outputs": [],
   "source": []
  },
  {
   "cell_type": "code",
   "execution_count": null,
   "id": "f974197a",
   "metadata": {},
   "outputs": [],
   "source": []
  }
 ],
 "metadata": {
  "kernelspec": {
   "display_name": "Python 3 (ipykernel)",
   "language": "python",
   "name": "python3"
  },
  "language_info": {
   "codemirror_mode": {
    "name": "ipython",
    "version": 3
   },
   "file_extension": ".py",
   "mimetype": "text/x-python",
   "name": "python",
   "nbconvert_exporter": "python",
   "pygments_lexer": "ipython3",
   "version": "3.10.9"
  }
 },
 "nbformat": 4,
 "nbformat_minor": 5
}
